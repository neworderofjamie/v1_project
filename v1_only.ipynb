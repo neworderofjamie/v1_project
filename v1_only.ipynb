{
 "cells": [
  {
   "cell_type": "markdown",
   "metadata": {},
   "source": [
    "# Prototype of model with just V1 Neurons"
   ]
  },
  {
   "cell_type": "markdown",
   "metadata": {},
   "source": [
    "## Load data from GLIF Network directory"
   ]
  },
  {
   "cell_type": "code",
   "execution_count": 1,
   "metadata": {},
   "outputs": [],
   "source": [
    "import numpy as np\n",
    "import pandas as pd\n",
    "from sonata.circuit import File\n",
    "from pathlib import Path\n",
    "import pickle\n",
    "from pygenn.genn_model import GeNNModel, init_connectivity\n",
    "from pygenn.genn_wrapper import NO_DELAY\n",
    "import matplotlib.pyplot as plt\n",
    "\n",
    "path_v1_nodes = Path(\"GLIF Network/network/v1_nodes.h5\").resolve()\n",
    "path_v1_nodes_types = Path(\"GLIF Network/network/v1_node_types.csv\").resolve()\n",
    "path_v1_edges = Path(\"GLIF Network/network/v1_v1_edges.h5\").resolve()\n",
    "path_v1_edges_types = Path(\"GLIF Network/network/v1_v1_edge_types.csv\").resolve()\n",
    "\n",
    "net = File(data_files=[path_v1_nodes, path_v1_edges], \n",
    "           data_type_files=[path_v1_nodes_types, path_v1_edges_types])\n",
    "\n",
    "v1_nodes = net.nodes['v1']\n",
    "v1_group = v1_nodes.get_group(v1_nodes.group_ids[0])  # Only 1 group in v1_nodes\n",
    "v1_num_nodes = len(v1_group)\n",
    "\n",
    "v1_edges = net.edges['v1_to_v1']\n",
    "v1_num_edges = len(v1_edges)"
   ]
  },
  {
   "cell_type": "markdown",
   "metadata": {},
   "source": [
    "## Extract pre_indices and post_indices from edges\n",
    "### Save as pickle file to avoid having to go through the loop again"
   ]
  },
  {
   "cell_type": "code",
   "execution_count": 2,
   "metadata": {},
   "outputs": [],
   "source": [
    "filename = 'v1_source_target_pairs.pickle'\n",
    "\n",
    "if Path(filename).is_file():\n",
    "\n",
    "    with open(filename, \"rb\") as f:\n",
    "        source_target_pairs = pickle.load(f)\n",
    "        \n",
    "else:\n",
    "    \n",
    "    source_target_pairs = np.zeros((v1_num_edges, 2), dtype='int64')\n",
    "    \n",
    "    # TODO: Faster way to read edges besides looping?\n",
    "    for i, edge in enumerate(v1_edges):\n",
    "        \n",
    "        if i % 10000 == 0:\n",
    "            print(\"{i} of {v1_num_edges}\".format(i=i, v1_num_edges=v1_num_edges))\n",
    "            \n",
    "        source = edge.source_node_id\n",
    "        target = edge.target_node_id\n",
    "        source_target_pairs[i] = [source, target]\n",
    "\n",
    "    with open(filename, \"wb\") as f:\n",
    "        pickle.dump(source_target_pairs, f) \n",
    "        \n",
    "pre_indices, post_indices = source_target_pairs.T"
   ]
  },
  {
   "cell_type": "markdown",
   "metadata": {},
   "source": [
    "## Construct model"
   ]
  },
  {
   "cell_type": "code",
   "execution_count": 3,
   "metadata": {
    "scrolled": false
   },
   "outputs": [
    {
     "name": "stdout",
     "output_type": "stream",
     "text": [
      "0.0\n",
      "0.10000000149011612\n",
      "0.20000000298023224\n",
      "0.30000001192092896\n",
      "0.4000000059604645\n",
      "0.5\n",
      "0.6000000238418579\n",
      "0.699999988079071\n",
      "0.800000011920929\n",
      "0.9000000357627869\n",
      "1.0\n",
      "1.100000023841858\n",
      "1.2000000476837158\n",
      "1.3000000715255737\n",
      "1.399999976158142\n",
      "1.5\n",
      "1.600000023841858\n",
      "1.7000000476837158\n",
      "1.8000000715255737\n",
      "1.899999976158142\n",
      "2.0\n",
      "2.1000001430511475\n",
      "2.200000047683716\n",
      "2.299999952316284\n",
      "2.4000000953674316\n",
      "2.5\n",
      "2.6000001430511475\n",
      "2.700000047683716\n",
      "2.799999952316284\n",
      "2.9000000953674316\n",
      "3.0\n",
      "3.1000001430511475\n",
      "3.200000047683716\n",
      "3.299999952316284\n",
      "3.4000000953674316\n",
      "3.5\n",
      "3.6000001430511475\n",
      "3.700000047683716\n",
      "3.799999952316284\n",
      "3.9000000953674316\n",
      "4.0\n",
      "4.099999904632568\n",
      "4.200000286102295\n",
      "4.300000190734863\n",
      "4.400000095367432\n",
      "4.5\n",
      "4.599999904632568\n",
      "4.700000286102295\n",
      "4.800000190734863\n",
      "4.900000095367432\n",
      "5.0\n",
      "5.099999904632568\n",
      "5.200000286102295\n",
      "5.300000190734863\n",
      "5.400000095367432\n",
      "5.5\n",
      "5.599999904632568\n",
      "5.700000286102295\n",
      "5.800000190734863\n",
      "5.900000095367432\n",
      "6.0\n",
      "6.099999904632568\n"
     ]
    },
    {
     "ename": "KeyboardInterrupt",
     "evalue": "",
     "output_type": "error",
     "traceback": [
      "\u001b[0;31m---------------------------------------------------------------------------\u001b[0m",
      "\u001b[0;31mKeyboardInterrupt\u001b[0m                         Traceback (most recent call last)",
      "\u001b[0;32m<ipython-input-3-6db850c108c9>\u001b[0m in \u001b[0;36m<module>\u001b[0;34m\u001b[0m\n\u001b[1;32m     60\u001b[0m \u001b[0;32mwhile\u001b[0m \u001b[0mmodel\u001b[0m\u001b[0;34m.\u001b[0m\u001b[0mt\u001b[0m \u001b[0;34m<\u001b[0m \u001b[0;36m200.0\u001b[0m\u001b[0;34m:\u001b[0m\u001b[0;34m\u001b[0m\u001b[0;34m\u001b[0m\u001b[0m\n\u001b[1;32m     61\u001b[0m     \u001b[0mprint\u001b[0m\u001b[0;34m(\u001b[0m\u001b[0mmodel\u001b[0m\u001b[0;34m.\u001b[0m\u001b[0mt\u001b[0m\u001b[0;34m)\u001b[0m\u001b[0;34m\u001b[0m\u001b[0;34m\u001b[0m\u001b[0m\n\u001b[0;32m---> 62\u001b[0;31m     \u001b[0mmodel\u001b[0m\u001b[0;34m.\u001b[0m\u001b[0mstep_time\u001b[0m\u001b[0;34m(\u001b[0m\u001b[0;34m)\u001b[0m\u001b[0;34m\u001b[0m\u001b[0;34m\u001b[0m\u001b[0m\n\u001b[0m\u001b[1;32m     63\u001b[0m     \u001b[0mv1_pop\u001b[0m\u001b[0;34m.\u001b[0m\u001b[0mpull_var_from_device\u001b[0m\u001b[0;34m(\u001b[0m\u001b[0;34m\"V\"\u001b[0m\u001b[0;34m)\u001b[0m\u001b[0;34m\u001b[0m\u001b[0;34m\u001b[0m\u001b[0m\n\u001b[1;32m     64\u001b[0m \u001b[0;34m\u001b[0m\u001b[0m\n",
      "\u001b[0;32m~/Documents/miniconda3/envs/v1_venv/lib/python3.6/site-packages/pygenn/genn_model.py\u001b[0m in \u001b[0;36mstep_time\u001b[0;34m(self)\u001b[0m\n\u001b[1;32m    695\u001b[0m             \u001b[0;32mraise\u001b[0m \u001b[0mException\u001b[0m\u001b[0;34m(\u001b[0m\u001b[0;34m\"GeNN model has to be loaded before stepping\"\u001b[0m\u001b[0;34m)\u001b[0m\u001b[0;34m\u001b[0m\u001b[0;34m\u001b[0m\u001b[0m\n\u001b[1;32m    696\u001b[0m \u001b[0;34m\u001b[0m\u001b[0m\n\u001b[0;32m--> 697\u001b[0;31m         \u001b[0mself\u001b[0m\u001b[0;34m.\u001b[0m\u001b[0m_slm\u001b[0m\u001b[0;34m.\u001b[0m\u001b[0mstep_time\u001b[0m\u001b[0;34m(\u001b[0m\u001b[0;34m)\u001b[0m\u001b[0;34m\u001b[0m\u001b[0;34m\u001b[0m\u001b[0m\n\u001b[0m\u001b[1;32m    698\u001b[0m \u001b[0;34m\u001b[0m\u001b[0m\n\u001b[1;32m    699\u001b[0m     \u001b[0;32mdef\u001b[0m \u001b[0mcustom_update\u001b[0m\u001b[0;34m(\u001b[0m\u001b[0mself\u001b[0m\u001b[0;34m,\u001b[0m \u001b[0mname\u001b[0m\u001b[0;34m)\u001b[0m\u001b[0;34m:\u001b[0m\u001b[0;34m\u001b[0m\u001b[0;34m\u001b[0m\u001b[0m\n",
      "\u001b[0;32m~/Documents/miniconda3/envs/v1_venv/lib/python3.6/site-packages/pygenn/genn_wrapper/SharedLibraryModelNumpy.py\u001b[0m in \u001b[0;36mstep_time\u001b[0;34m(self)\u001b[0m\n\u001b[1;32m    200\u001b[0m \u001b[0;34m\u001b[0m\u001b[0m\n\u001b[1;32m    201\u001b[0m     \u001b[0;32mdef\u001b[0m \u001b[0mstep_time\u001b[0m\u001b[0;34m(\u001b[0m\u001b[0mself\u001b[0m\u001b[0;34m)\u001b[0m \u001b[0;34m->\u001b[0m \u001b[0;34m\"void\"\u001b[0m\u001b[0;34m:\u001b[0m\u001b[0;34m\u001b[0m\u001b[0;34m\u001b[0m\u001b[0m\n\u001b[0;32m--> 202\u001b[0;31m         \u001b[0;32mreturn\u001b[0m \u001b[0m_SharedLibraryModelNumpy\u001b[0m\u001b[0;34m.\u001b[0m\u001b[0mSharedLibraryModel_f_step_time\u001b[0m\u001b[0;34m(\u001b[0m\u001b[0mself\u001b[0m\u001b[0;34m)\u001b[0m\u001b[0;34m\u001b[0m\u001b[0;34m\u001b[0m\u001b[0m\n\u001b[0m\u001b[1;32m    203\u001b[0m \u001b[0;34m\u001b[0m\u001b[0m\n\u001b[1;32m    204\u001b[0m     \u001b[0;32mdef\u001b[0m \u001b[0mcustom_update\u001b[0m\u001b[0;34m(\u001b[0m\u001b[0mself\u001b[0m\u001b[0;34m,\u001b[0m \u001b[0mname\u001b[0m\u001b[0;34m:\u001b[0m \u001b[0;34m'std::string const &'\u001b[0m\u001b[0;34m)\u001b[0m \u001b[0;34m->\u001b[0m \u001b[0;34m\"void\"\u001b[0m\u001b[0;34m:\u001b[0m\u001b[0;34m\u001b[0m\u001b[0;34m\u001b[0m\u001b[0m\n",
      "\u001b[0;31mKeyboardInterrupt\u001b[0m: "
     ]
    }
   ],
   "source": [
    "# Parameters copied from pygenn tutorial as a first pass\n",
    "p = {\"gNa\": 7.15,   # Na conductance in [muS]\n",
    "     \"ENa\": 50.0,   # Na equi potential [mV]\n",
    "     \"gK\": 1.43,    # K conductance in [muS]\n",
    "     \"EK\": -95.0,   # K equi potential [mV] \n",
    "     \"gl\": 0.02672, # leak conductance [muS]\n",
    "     \"El\": -63.563, # El: leak equi potential in mV, \n",
    "     \"C\": 0.143}    # membr. capacity density in nF\n",
    "ini = {\"V\": -60.0,      # membrane potential\n",
    "       \"m\": 0.0529324,  # prob. for Na channel activation\n",
    "       \"h\": 0.3176767,  # prob. for not Na channel blocking\n",
    "       \"n\": 0.5961207}  # prob. for K channel activation\n",
    "s_ini = {\"g\": -0.2}\n",
    "ps_p = {\"tau\": 1.0, # Decay time constant [ms] \n",
    "        \"E\": -80.0} # Reversal potential [mV]\n",
    "\n",
    "model = GeNNModel(\"float\", \"v1_only\")\n",
    "model.dT = 0.1\n",
    "\n",
    "# Create v1 population\n",
    "v1_pop = model.add_neuron_population(\"v1_pop\", v1_num_nodes , \"TraubMiles\", p, ini)\n",
    "\n",
    "# Create v1 to v1 synapse population\n",
    "v1_pop_synapses = model.add_synapse_population(    pop_name = \"v1_pop_synapses\",\n",
    "    matrix_type = \"SPARSE_GLOBALG\",\n",
    "    delay_steps = 10,\n",
    "    source = \"v1_pop\",\n",
    "    target = \"v1_pop\",\n",
    "    w_update_model = \"StaticPulse\",\n",
    "    wu_param_space = {},\n",
    "    wu_var_space = s_ini,\n",
    "    wu_pre_var_space = {},\n",
    "    wu_post_var_space = {},\n",
    "    postsyn_model = \"ExpCond\",\n",
    "    ps_param_space = ps_p,\n",
    "    ps_var_space = {},\n",
    "    connectivity_initialiser=None,\n",
    ")\n",
    "\n",
    "# Assign the synapse connections\n",
    "v1_pop_synapses.set_sparse_connections(pre_indices, post_indices)\n",
    "\n",
    "# Add initial stimulus to first neuron in v1_pop\n",
    "initial_stimulus = {\"startSpike\": [0], \"endSpike\": [1]}\n",
    "stim_pop = model.add_neuron_population(\"Stim\", 1, \"SpikeSourceArray\", {}, initial_stimulus)\n",
    "model.add_synapse_population(\"StimPop1\", \"SPARSE_GLOBALG\", NO_DELAY,\n",
    "    stim_pop, v1_pop,\n",
    "    \"StaticPulse\", {}, s_ini, {}, {},\n",
    "    \"ExpCond\", ps_p, {},\n",
    "    init_connectivity(\"OneToOne\", {}))\n",
    "stim_pop.set_extra_global_param(\"spikeTimes\", [0.0])\n",
    "\n",
    "# Build the model\n",
    "model.build()\n",
    "model.load()\n",
    "\n",
    "# Run a quick simulation\n",
    "v = np.empty((2000, v1_num_nodes))\n",
    "v_view = v1_pop.vars[\"V\"].view\n",
    "while model.t < 200.0:\n",
    "    print(model.t)\n",
    "    model.step_time()\n",
    "    v1_pop.pull_var_from_device(\"V\")\n",
    "    \n",
    "    v[model.timestep - 1,:]=v_view[:]\n",
    "    \n",
    "# Plot the results -- voltage of every 1000th neuron for 200 timesteps\n",
    "fig, axis = plt.subplots()\n",
    "axis.plot(v[:200,::1000])\n",
    "axis.set_xlabel('Timesteps')\n",
    "axis.set_ylabel('mV')\n",
    "plt.show()"
   ]
  },
  {
   "cell_type": "markdown",
   "metadata": {},
   "source": [
    "## Current prototype v1 model results in runaway/unrealistic excitation (voltages reaching 1e38 mV)\n",
    "\n",
    "### Improvements to make to get better results: incorporating the values specific to each edge (syn_weight, weight_function, weight_sigma, delay) as well as the dynamics_params in the associated .json files\n"
   ]
  }
 ],
 "metadata": {
  "interpreter": {
   "hash": "f9a6ebe48ae0d4674325f7227645fc29e2e7a4b825b1e6cd9528d5a70451385b"
  },
  "kernelspec": {
   "display_name": "Python 3",
   "language": "python",
   "name": "python3"
  },
  "language_info": {
   "codemirror_mode": {
    "name": "ipython",
    "version": 3
   },
   "file_extension": ".py",
   "mimetype": "text/x-python",
   "name": "python",
   "nbconvert_exporter": "python",
   "pygments_lexer": "ipython3",
   "version": "3.6.13"
  }
 },
 "nbformat": 4,
 "nbformat_minor": 2
}
