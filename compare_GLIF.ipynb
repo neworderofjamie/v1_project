{
 "cells": [
  {
   "cell_type": "markdown",
   "metadata": {},
   "source": [
    "# Comparison of GLIF models for my implementation and that in Teeter et al. (2018)\n"
   ]
  },
  {
   "cell_type": "markdown",
   "metadata": {},
   "source": [
    "## Generate Neural Response for Teeter et al. (2018) - Figure 1b"
   ]
  },
  {
   "cell_type": "code",
   "execution_count": 21,
   "metadata": {},
   "outputs": [
    {
     "name": "stdout",
     "output_type": "stream",
     "text": [
      "running LIF\n",
      "GLIF1 done at 0.8141137997309367 min\n"
     ]
    }
   ],
   "source": [
    "import numpy as np\n",
    "import pickle\n",
    "import os\n",
    "import allensdk.core.json_utilities as ju\n",
    "from allensdk.model.glif.glif_neuron import GlifNeuron\n",
    "import sys\n",
    "import time\n",
    "import matplotlib.pyplot as plt\n",
    "\n",
    "relative_path=os.path.dirname('/home/williamsnider/Code/GLIF_Teeter_et_al_2018/create_data_dir')\n",
    "sys.path.append(os.path.join(relative_path, 'libraries'))\n",
    "from data_library import get_file_path_endswith, get_sweep_num_by_name\n",
    "from allensdk.core.cell_types_cache import CellTypesCache\n",
    "ctc = CellTypesCache(manifest_file=os.path.join(relative_path,'cell_types_manifest.json'))\n",
    "\n",
    "#---------------------------------------------------------------\n",
    "#------------NO SPECIFICATIONS NEEDED---------------------------\n",
    "#---------------------------------------------------------------\n",
    "\n",
    "def get_model(path, EW):\n",
    "    '''Runs the model for a specified neuron and model\n",
    "    inputs:\n",
    "        path: string\n",
    "            folder path with files for the neuron\n",
    "        EW: string\n",
    "            end of file searching for:  options '_GLIF1_neuron_config.json',_GLIF2_neuron_config.json' etc.\n",
    "    returns:\n",
    "        run_data: dictionary\n",
    "            contains data from the model run\n",
    "            \n",
    "   '''\n",
    "\n",
    "    specimen_id=int(os.path.basename(path)[:9])\n",
    "    file=get_file_path_endswith(path, EW)\n",
    "\n",
    "    # load data\n",
    "    dir_name=os.path.join(relative_path, 'mouse_nwb/specimen_'+ str(specimen_id))\n",
    "    all_sweeps=ctc.get_ephys_sweeps(specimen_id,  os.path.join(dir_name, 'ephys_sweeps.json'))\n",
    "    #all_sweeps=ctc.get_ephys_sweeps(specimen_id)\n",
    "    sweeps=get_sweep_num_by_name(all_sweeps, 'Noise 2')\n",
    "    \n",
    "    noise2_sweeps = get_sweep_num_by_name(all_sweeps, 'Noise 2')\n",
    "#    noise2_data=ctc.get_ephys_data(specimen_id).get_sweep(noise2_sweeps[0])\n",
    "    noise2_data=ctc.get_ephys_data(specimen_id, os.path.join(dir_name, 'ephys.nwb')).get_sweep(noise2_sweeps[0])\n",
    "\n",
    "    # run model with current\n",
    "    stimulus2=noise2_data['stimulus']\n",
    "    neuron_config=ju.read(file)\n",
    "    neuron_config['dt']=1./noise2_data['sampling_rate'] #reset dt to the stimulus dt not the optimization dt\n",
    "    neuron = GlifNeuron.from_dict(neuron_config)\n",
    "    1/noise2_data['sampling_rate']\n",
    "    run_data = neuron.run(stimulus2)\n",
    "    run_data['time']=np.arange(0, len(run_data['voltage']))*neuron_config['dt']\n",
    "    run_data['El_reference']=neuron_config['El_reference']    \n",
    "    run_data['stimulus']=noise2_data['stimulus']\n",
    "\n",
    "    return run_data\n",
    "\n",
    "def make_and_save_models(specimen_id):\n",
    "    '''Runs models and creates resulting voltage waveforms and saves them to a pickle file\n",
    "    inputs:\n",
    "        specimen_id: integer\n",
    "            specifies neuron to be run\n",
    "    outputs:\n",
    "        pickle files\n",
    "    '''\n",
    "    \n",
    "    global start_time #grab start_time from outside this module\n",
    "    \n",
    "    # finding the folder associated with the desired specimen_id \n",
    "    for dir in folders:\n",
    "        sp_id=int(os.path.basename(dir)[:9])\n",
    "        if sp_id == specimen_id:\n",
    "            folder=dir\n",
    "    cre=os.path.basename(folder)[10:]\n",
    "    \n",
    "    try:\n",
    "        os.makedirs('pkl_data')\n",
    "    except: pass\n",
    "    \n",
    "    print('running LIF')\n",
    "    LIF_model=get_model(folder, '_GLIF1_neuron_config.json')\n",
    "    pickle.dump(LIF_model, open(\"pkl_data/\"+str(specimen_id)+cre+\"_LIF_model.pkl\", \"wb\" ))\n",
    "    print('GLIF1 done at',(time.time()-start_time)/60., 'min')\n",
    "\n",
    "    # print('running LIFR')\n",
    "    # LIFR_model=get_model(folder, '_GLIF2_neuron_config.json')\n",
    "    # pickle.dump(LIFR_model, open(\"pkl_data/\"+str(specimen_id)+cre+\"_LIFR_model.pkl\", \"wb\" ))\n",
    "    # print('GLIF2 done at',(time.time()-start_time)/60., 'min')\n",
    "\n",
    "    # print('running LIFASC')\n",
    "    # LIFASC_model=get_model(folder, '_GLIF3_neuron_config.json')\n",
    "    # pickle.dump(LIFASC_model, open(\"pkl_data/\"+str(specimen_id)+cre+\"_LIFASC_model.pkl\", \"wb\" ))\n",
    "    # print('GLIF3 done at',(time.time()-start_time)/60., 'min')\n",
    "\n",
    "    # print('running LIFRASC')\n",
    "    # LIFRASC_model=get_model(folder, '_GLIF4_neuron_config.json')\n",
    "    # pickle.dump(LIFRASC_model, open(\"pkl_data/\"+str(specimen_id)+cre+\"_LIFRASC_model.pkl\", \"wb\" ))\n",
    "    # print('GLIF4 done at',(time.time()-start_time)/60., 'min')\n",
    "    \n",
    "    # print('running LIFRASCAT')\n",
    "    # LIFRASCAT_model=get_model(folder, '_GLIF5_neuron_config.json')\n",
    "    # pickle.dump(LIFRASCAT_model, open(\"pkl_data/\"+str(specimen_id)+cre+\"_LIFRASCAT_model.pkl\", \"wb\" ))\n",
    "    # print('GLIF5 done at',(time.time()-start_time)/60., 'min')\n",
    "\n",
    "\n",
    "path=os.path.join(relative_path,'mouse_struc_data_dir')\n",
    "folders=[os.path.join(path, f) for f in  os.listdir(path)]\n",
    "\n",
    "start_time=time.time()\n",
    "\n",
    "#--make and save models\n",
    "specimen_id=474637203\n",
    "# make_and_save_models(specimen_id)\n",
    "\n",
    "# specimen_id=512322162\n",
    "# make_and_save_models(specimen_id)\n",
    "\n",
    "# specimen_id=512322162\n",
    "\n",
    "# finding the folder associated with the desired specimen_id \n",
    "import matplotlib.pyplot as plt\n",
    "for dir in folders:\n",
    "    sp_id=int(os.path.basename(dir)[:9])\n",
    "    if sp_id == specimen_id:\n",
    "        folder=dir\n",
    "cre=os.path.basename(folder)[10:]\n",
    "\n",
    "try:\n",
    "    os.makedirs('pkl_data')\n",
    "except: pass\n",
    "\n",
    "print('running LIF')\n",
    "LIF_model=get_model(folder, '_GLIF1_neuron_config.json')\n",
    "pickle.dump(LIF_model, open(\"pkl_data/\"+str(specimen_id)+cre+\"_LIF_model.pkl\", \"wb\" ))\n",
    "print('GLIF1 done at',(time.time()-start_time)/60., 'min')\n",
    "\n",
    "# print('running LIFR')\n",
    "# LIFR_model=get_model(folder, '_GLIF2_neuron_config.json')\n",
    "# pickle.dump(LIFR_model, open(\"pkl_data/\"+str(specimen_id)+cre+\"_LIFR_model.pkl\", \"wb\" ))\n",
    "# print('GLIF2 done at',(time.time()-start_time)/60., 'min')\n",
    "\n",
    "# print('running LIFASC')\n",
    "# LIFASC_model=get_model(folder, '_GLIF3_neuron_config.json')\n",
    "# pickle.dump(LIFASC_model, open(\"pkl_data/\"+str(specimen_id)+cre+\"_LIFASC_model.pkl\", \"wb\" ))\n",
    "# print('GLIF3 done at',(time.time()-start_time)/60., 'min')\n",
    "\n",
    "# print('running LIFRASC')\n",
    "# LIFRASC_model=get_model(folder, '_GLIF4_neuron_config.json')\n",
    "# pickle.dump(LIFRASC_model, open(\"pkl_data/\"+str(specimen_id)+cre+\"_LIFRASC_model.pkl\", \"wb\" ))\n",
    "# print('GLIF4 done at',(time.time()-start_time)/60., 'min')\n",
    "\n",
    "# print('running LIFRASCAT')\n",
    "# LIFRASCAT_model=get_model(folder, '_GLIF5_neuron_config.json')\n",
    "# pickle.dump(LIFRASCAT_model, open(\"pkl_data/\"+str(specimen_id)+cre+\"_LIFRASCAT_model.pkl\", \"wb\" ))\n",
    "# print('GLIF5 done at',(time.time()-start_time)/60., 'min')\n",
    "\n"
   ]
  },
  {
   "cell_type": "markdown",
   "metadata": {},
   "source": [
    "## Key variables are Voltage and Stimulus (external input current)"
   ]
  },
  {
   "cell_type": "code",
   "execution_count": 22,
   "metadata": {},
   "outputs": [
    {
     "data": {
      "image/png": "[encoded data removed]",
      "text/plain": [
       "<Figure size 432x288 with 1 Axes>"
      ]
     },
     "metadata": {
      "needs_background": "light"
     },
     "output_type": "display_data"
    }
   ],
   "source": [
    "V = LIF_model['voltage']\n",
    "t = LIF_model['time']\n",
    "S = LIF_model['stimulus']\n",
    "\n",
    "fig, ax = plt.subplots()\n",
    "ax.plot(t, V)\n",
    "ax.set_xlim(18,18.3)\n",
    "ax.set_ylabel('Voltage (V)')\n",
    "ax.set_xlabel('Time (s)')\n",
    "ax.set_title('Neuron Voltage Trace')\n",
    "plt.show()"
   ]
  },
  {
   "cell_type": "code",
   "execution_count": 23,
   "metadata": {},
   "outputs": [
    {
     "data": {
      "image/png": "[encoded data removed]",
      "text/plain": [
       "<Figure size 432x288 with 1 Axes>"
      ]
     },
     "metadata": {
      "needs_background": "light"
     },
     "output_type": "display_data"
    }
   ],
   "source": [
    "fig, ax = plt.subplots()\n",
    "ax.plot(t, S)\n",
    "ax.set_xlim(18,18.3)\n",
    "ax.set_xlabel('Time (s)')\n",
    "ax.set_ylabel('Current (A)')  # Check unit\n",
    "ax.set_title('External Input Current')\n",
    "plt.show()"
   ]
  },
  {
   "cell_type": "markdown",
   "metadata": {},
   "source": [
    "## Apply same external input current to my GLIF "
   ]
  },
  {
   "cell_type": "code",
   "execution_count": 27,
   "metadata": {},
   "outputs": [
    {
     "ename": "CalledProcessError",
     "evalue": "Command '['make', '-j', '8', '-C', './GLIF_1_CODE']' returned non-zero exit status 2.",
     "output_type": "error",
     "traceback": [
      "\u001b[0;31m---------------------------------------------------------------------------\u001b[0m",
      "\u001b[0;31mCalledProcessError\u001b[0m                        Traceback (most recent call last)",
      "\u001b[0;32m<ipython-input-27-31232e82fef0>\u001b[0m in \u001b[0;36m<module>\u001b[0;34m\u001b[0m\n\u001b[1;32m     62\u001b[0m \u001b[0;34m\u001b[0m\u001b[0m\n\u001b[1;32m     63\u001b[0m \u001b[0;34m\u001b[0m\u001b[0m\n\u001b[0;32m---> 64\u001b[0;31m \u001b[0mmodel\u001b[0m\u001b[0;34m.\u001b[0m\u001b[0mbuild\u001b[0m\u001b[0;34m(\u001b[0m\u001b[0;34m)\u001b[0m\u001b[0;34m\u001b[0m\u001b[0;34m\u001b[0m\u001b[0m\n\u001b[0m\u001b[1;32m     65\u001b[0m \u001b[0mmodel\u001b[0m\u001b[0;34m.\u001b[0m\u001b[0mload\u001b[0m\u001b[0;34m(\u001b[0m\u001b[0;34m)\u001b[0m\u001b[0;34m\u001b[0m\u001b[0;34m\u001b[0m\u001b[0m\n\u001b[1;32m     66\u001b[0m \u001b[0;34m\u001b[0m\u001b[0m\n",
      "\u001b[0;32m~/Documents/miniconda3/envs/v1_venv/lib/python3.6/site-packages/pygenn/genn_model.py\u001b[0m in \u001b[0;36mbuild\u001b[0;34m(self, path_to_model, force_rebuild)\u001b[0m\n\u001b[1;32m    594\u001b[0m                         path.join(output_path, \"runner.vcxproj\")])\n\u001b[1;32m    595\u001b[0m         \u001b[0;32melse\u001b[0m\u001b[0;34m:\u001b[0m\u001b[0;34m\u001b[0m\u001b[0;34m\u001b[0m\u001b[0m\n\u001b[0;32m--> 596\u001b[0;31m             \u001b[0mcheck_call\u001b[0m\u001b[0;34m(\u001b[0m\u001b[0;34m[\u001b[0m\u001b[0;34m\"make\"\u001b[0m\u001b[0;34m,\u001b[0m \u001b[0;34m\"-j\"\u001b[0m\u001b[0;34m,\u001b[0m \u001b[0mstr\u001b[0m\u001b[0;34m(\u001b[0m\u001b[0mcpu_count\u001b[0m\u001b[0;34m(\u001b[0m\u001b[0mlogical\u001b[0m\u001b[0;34m=\u001b[0m\u001b[0;32mFalse\u001b[0m\u001b[0;34m)\u001b[0m\u001b[0;34m)\u001b[0m\u001b[0;34m,\u001b[0m \u001b[0;34m\"-C\"\u001b[0m\u001b[0;34m,\u001b[0m \u001b[0moutput_path\u001b[0m\u001b[0;34m]\u001b[0m\u001b[0;34m)\u001b[0m\u001b[0;34m\u001b[0m\u001b[0;34m\u001b[0m\u001b[0m\n\u001b[0m\u001b[1;32m    597\u001b[0m \u001b[0;34m\u001b[0m\u001b[0m\n\u001b[1;32m    598\u001b[0m         \u001b[0mself\u001b[0m\u001b[0;34m.\u001b[0m\u001b[0m_built\u001b[0m \u001b[0;34m=\u001b[0m \u001b[0;32mTrue\u001b[0m\u001b[0;34m\u001b[0m\u001b[0;34m\u001b[0m\u001b[0m\n",
      "\u001b[0;32m~/Documents/miniconda3/envs/v1_venv/lib/python3.6/subprocess.py\u001b[0m in \u001b[0;36mcheck_call\u001b[0;34m(*popenargs, **kwargs)\u001b[0m\n\u001b[1;32m    309\u001b[0m         \u001b[0;32mif\u001b[0m \u001b[0mcmd\u001b[0m \u001b[0;32mis\u001b[0m \u001b[0;32mNone\u001b[0m\u001b[0;34m:\u001b[0m\u001b[0;34m\u001b[0m\u001b[0;34m\u001b[0m\u001b[0m\n\u001b[1;32m    310\u001b[0m             \u001b[0mcmd\u001b[0m \u001b[0;34m=\u001b[0m \u001b[0mpopenargs\u001b[0m\u001b[0;34m[\u001b[0m\u001b[0;36m0\u001b[0m\u001b[0;34m]\u001b[0m\u001b[0;34m\u001b[0m\u001b[0;34m\u001b[0m\u001b[0m\n\u001b[0;32m--> 311\u001b[0;31m         \u001b[0;32mraise\u001b[0m \u001b[0mCalledProcessError\u001b[0m\u001b[0;34m(\u001b[0m\u001b[0mretcode\u001b[0m\u001b[0;34m,\u001b[0m \u001b[0mcmd\u001b[0m\u001b[0;34m)\u001b[0m\u001b[0;34m\u001b[0m\u001b[0;34m\u001b[0m\u001b[0m\n\u001b[0m\u001b[1;32m    312\u001b[0m     \u001b[0;32mreturn\u001b[0m \u001b[0;36m0\u001b[0m\u001b[0;34m\u001b[0m\u001b[0;34m\u001b[0m\u001b[0m\n\u001b[1;32m    313\u001b[0m \u001b[0;34m\u001b[0m\u001b[0m\n",
      "\u001b[0;31mCalledProcessError\u001b[0m: Command '['make', '-j', '8', '-C', './GLIF_1_CODE']' returned non-zero exit status 2."
     ]
    }
   ],
   "source": [
    "from GLIF_models import GLIF_1\n",
    "from pygenn.genn_model import GeNNModel, create_custom_current_source_class, create_custom_neuron_class\n",
    "from pygenn.genn_groups import CurrentSource\n",
    "import matplotlib.pyplot as plt\n",
    "\n",
    "GLIF_1 = create_custom_neuron_class(\n",
    "    \"GLIF_1\",\n",
    "    param_names = [\"C\", \"G\", \"El\",\"Ie\", \"V_thres\"],\n",
    "    var_name_types=[(\"V\", \"scalar\")],\n",
    "    sim_code='$(V)+=1/$(C)*($(Ie)-$(G)*($(V)-$(El)));',\n",
    "    threshold_condition_code='$(V)>=$(V_thres)',\n",
    "    reset_code = '$(V)=$(El);'\n",
    ")\n",
    "\n",
    "\n",
    "### Add GLIF Class to model ###\n",
    "# TODO: copy parameters from Teeter 2018 config file\n",
    "GLIF_1_params = {\"C\": 60.72,\n",
    "              \"G\": 1.0,\n",
    "              \"El\": -79.04,\n",
    "              \"Ie\": 0.0,  # TODO: this is a placeholder until I learn how to add external input current\n",
    "              \"V_thres\": -49.63}\n",
    "GLIF_1_init = {\"V\": -65.0}\n",
    "num_GLIF = 1\n",
    "model = GeNNModel(\"float\", \"GLIF_1\")\n",
    "model.dT=0.1\n",
    "pop1 = model.add_neuron_population(\n",
    "    pop_name = \"pop1\",\n",
    "    num_neurons = num_GLIF,\n",
    "    neuron = GLIF_1,\n",
    "    param_space = GLIF_1_params,\n",
    "    var_space = GLIF_1_init,\n",
    ")\n",
    "\n",
    "\n",
    "# Need to add a synapse to declare Isyn?\n",
    "s_ini = {\"g\": 0}\n",
    "ps_p = {\"tau\": 1.0, # Decay time constant [ms] \n",
    "        \"E\": -80.0} # Reversal potential [mV]\n",
    "model.add_synapse_population(\"Pop1self\", \"SPARSE_GLOBALG\", 1,\n",
    "    pop1, pop1,\n",
    "    \"StaticPulse\", {}, s_ini, {}, {},\n",
    "    \"ExpCond\", ps_p, {},)\n",
    "\n",
    "\n",
    "### Add current source to model ###\n",
    "external_current_source = create_custom_current_source_class(\n",
    "    class_name = \"external_current\",\n",
    "    var_name_types = [(\"step\", \"unsigned int\"), (\"current_array\", \"double\") ],  # How to index array?\n",
    "    injection_code = \"\"\"\n",
    "    $(injectCurrent, $(current_array)[$(step)]);\n",
    "    $(step)++;\n",
    "    \"\"\",\n",
    ")\n",
    "cs_ini = {\"step\": 0, \"current_array\": S}  # external input current from Teeter 2018\n",
    "model.add_current_source(\n",
    "    cs_name = \"external_current_source\", \n",
    "    current_source_model=external_current_source,\n",
    "    pop = pop1,\n",
    "    param_space = {},\n",
    "    var_space = cs_ini)\n",
    "\n",
    "\n",
    "model.build()\n",
    "model.load()\n",
    "\n",
    "# Run a quick simulation\n",
    "v = np.empty((2000, num_GLIF))\n",
    "v_view = pop1.vars[\"V\"].view\n",
    "while model.t < 200.0:\n",
    "    model.step_time()\n",
    "    pop1.pull_var_from_device(\"V\")\n",
    "    \n",
    "    v[model.timestep - 1,:]=v_view[:]\n",
    "    \n",
    "# Plot the results -- voltage of the neuron for 200 timesteps\n",
    "fig, axis = plt.subplots()\n",
    "axis.plot(v[:2000,:])\n",
    "axis.set_xlabel('Timesteps')\n",
    "axis.set_ylabel('mV')\n",
    "plt.show()"
   ]
  }
 ],
 "metadata": {
  "interpreter": {
   "hash": "f9a6ebe48ae0d4674325f7227645fc29e2e7a4b825b1e6cd9528d5a70451385b"
  },
  "kernelspec": {
   "display_name": "Python 3.6.13 ('v1_venv')",
   "language": "python",
   "name": "python3"
  },
  "language_info": {
   "codemirror_mode": {
    "name": "ipython",
    "version": 3
   },
   "file_extension": ".py",
   "mimetype": "text/x-python",
   "name": "python",
   "nbconvert_exporter": "python",
   "pygments_lexer": "ipython3",
   "version": "3.6.13"
  },
  "orig_nbformat": 4
 },
 "nbformat": 4,
 "nbformat_minor": 2
}
