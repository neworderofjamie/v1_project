{
 "cells": [
  {
   "cell_type": "markdown",
   "metadata": {},
   "source": [
    "# Comparison of GLIF models for my implementation and that in Teeter et al. (2018)\n"
   ]
  },
  {
   "cell_type": "markdown",
   "metadata": {},
   "source": [
    "## Generate Neural Response for Teeter et al. (2018) - Figure 1b"
   ]
  },
  {
   "cell_type": "code",
   "execution_count": 18,
   "metadata": {},
   "outputs": [
    {
     "name": "stdout",
     "output_type": "stream",
     "text": [
      "running LIF\n",
      "GLIF1 done at 2.8054951866467794 min\n"
     ]
    }
   ],
   "source": [
    "import numpy as np\n",
    "import pickle\n",
    "import os\n",
    "import allensdk.core.json_utilities as ju\n",
    "from allensdk.model.glif.glif_neuron import GlifNeuron\n",
    "import sys\n",
    "import time\n",
    "import matplotlib.pyplot as plt\n",
    "\n",
    "relative_path=os.path.dirname('./GLIF_Teeter_et_al_2018/create_data_dir')\n",
    "sys.path.append(os.path.join(relative_path, 'libraries'))\n",
    "from data_library import get_file_path_endswith, get_sweep_num_by_name\n",
    "from allensdk.core.cell_types_cache import CellTypesCache\n",
    "ctc = CellTypesCache(manifest_file=os.path.join(relative_path,'cell_types_manifest.json'))\n",
    "\n",
    "#---------------------------------------------------------------\n",
    "#------------NO SPECIFICATIONS NEEDED---------------------------\n",
    "#---------------------------------------------------------------\n",
    "\n",
    "def get_model(path, EW):\n",
    "    '''Runs the model for a specified neuron and model\n",
    "    inputs:\n",
    "        path: string\n",
    "            folder path with files for the neuron\n",
    "        EW: string\n",
    "            end of file searching for:  options '_GLIF1_neuron_config.json',_GLIF2_neuron_config.json' etc.\n",
    "    returns:\n",
    "        run_data: dictionary\n",
    "            contains data from the model run\n",
    "            \n",
    "   '''\n",
    "\n",
    "    specimen_id=int(os.path.basename(path)[:9])\n",
    "    file=get_file_path_endswith(path, EW)\n",
    "\n",
    "    # load data\n",
    "    dir_name=os.path.join(relative_path, 'mouse_nwb/specimen_'+ str(specimen_id))\n",
    "    all_sweeps=ctc.get_ephys_sweeps(specimen_id,  os.path.join(dir_name, 'ephys_sweeps.json'))\n",
    "    #all_sweeps=ctc.get_ephys_sweeps(specimen_id)\n",
    "    sweeps=get_sweep_num_by_name(all_sweeps, 'Noise 2')\n",
    "    \n",
    "    noise2_sweeps = get_sweep_num_by_name(all_sweeps, 'Noise 2')\n",
    "#    noise2_data=ctc.get_ephys_data(specimen_id).get_sweep(noise2_sweeps[0])\n",
    "    noise2_data=ctc.get_ephys_data(specimen_id, os.path.join(dir_name, 'ephys.nwb')).get_sweep(noise2_sweeps[0])\n",
    "\n",
    "    # run model with current\n",
    "    stimulus2=noise2_data['stimulus']\n",
    "    neuron_config=ju.read(file)\n",
    "    neuron_config['dt']=1./noise2_data['sampling_rate'] #reset dt to the stimulus dt not the optimization dt\n",
    "    neuron = GlifNeuron.from_dict(neuron_config)\n",
    "    1/noise2_data['sampling_rate']\n",
    "    run_data = neuron.run(stimulus2)\n",
    "    run_data['time']=np.arange(0, len(run_data['voltage']))*neuron_config['dt']\n",
    "    run_data['El_reference']=neuron_config['El_reference']    \n",
    "    run_data['stimulus']=noise2_data['stimulus']\n",
    "\n",
    "    return run_data\n",
    "\n",
    "# def make_and_save_models(specimen_id):\n",
    "#     '''Runs models and creates resulting voltage waveforms and saves them to a pickle file\n",
    "#     inputs:\n",
    "#         specimen_id: integer\n",
    "#             specifies neuron to be run\n",
    "#     outputs:\n",
    "#         pickle files\n",
    "#     '''\n",
    "    \n",
    "#     global start_time #grab start_time from outside this module\n",
    "    \n",
    "#     # finding the folder associated with the desired specimen_id \n",
    "#     for dir in folders:\n",
    "#         sp_id=int(os.path.basename(dir)[:9])\n",
    "#         if sp_id == specimen_id:\n",
    "#             folder=dir\n",
    "#     cre=os.path.basename(folder)[10:]\n",
    "    \n",
    "#     try:\n",
    "#         os.makedirs('pkl_data')\n",
    "#     except: pass\n",
    "    \n",
    "#     print('running LIF')\n",
    "#     LIF_model=get_model(folder, '_GLIF1_neuron_config.json')\n",
    "#     pickle.dump(LIF_model, open(\"pkl_data/\"+str(specimen_id)+cre+\"_LIF_model.pkl\", \"wb\" ))\n",
    "#     print('GLIF1 done at',(time.time()-start_time)/60., 'min')\n",
    "\n",
    "#     # print('running LIFR')\n",
    "#     # LIFR_model=get_model(folder, '_GLIF2_neuron_config.json')\n",
    "#     # pickle.dump(LIFR_model, open(\"pkl_data/\"+str(specimen_id)+cre+\"_LIFR_model.pkl\", \"wb\" ))\n",
    "#     # print('GLIF2 done at',(time.time()-start_time)/60., 'min')\n",
    "\n",
    "#     # print('running LIFASC')\n",
    "#     # LIFASC_model=get_model(folder, '_GLIF3_neuron_config.json')\n",
    "#     # pickle.dump(LIFASC_model, open(\"pkl_data/\"+str(specimen_id)+cre+\"_LIFASC_model.pkl\", \"wb\" ))\n",
    "#     # print('GLIF3 done at',(time.time()-start_time)/60., 'min')\n",
    "\n",
    "#     # print('running LIFRASC')\n",
    "#     # LIFRASC_model=get_model(folder, '_GLIF4_neuron_config.json')\n",
    "#     # pickle.dump(LIFRASC_model, open(\"pkl_data/\"+str(specimen_id)+cre+\"_LIFRASC_model.pkl\", \"wb\" ))\n",
    "#     # print('GLIF4 done at',(time.time()-start_time)/60., 'min')\n",
    "    \n",
    "#     # print('running LIFRASCAT')\n",
    "#     # LIFRASCAT_model=get_model(folder, '_GLIF5_neuron_config.json')\n",
    "#     # pickle.dump(LIFRASCAT_model, open(\"pkl_data/\"+str(specimen_id)+cre+\"_LIFRASCAT_model.pkl\", \"wb\" ))\n",
    "#     # print('GLIF5 done at',(time.time()-start_time)/60., 'min')\n",
    "\n",
    "\n",
    "path=os.path.join(relative_path,'mouse_struc_data_dir')\n",
    "folders=[os.path.join(path, f) for f in  os.listdir(path)]\n",
    "\n",
    "start_time=time.time()\n",
    "\n",
    "\n",
    "#--make and save models\n",
    "specimen_id=474637203\n",
    "# make_and_save_models(specimen_id)\n",
    "\n",
    "# specimen_id=512322162\n",
    "# make_and_save_models(specimen_id)\n",
    "\n",
    "# specimen_id=512322162\n",
    "\n",
    "# finding the folder associated with the desired specimen_id \n",
    "import matplotlib.pyplot as plt\n",
    "for dir in folders:\n",
    "    sp_id=int(os.path.basename(dir)[:9])\n",
    "    if sp_id == specimen_id:\n",
    "        folder=dir\n",
    "cre=os.path.basename(folder)[10:]\n",
    "\n",
    "try:\n",
    "    os.makedirs('pkl_data')\n",
    "except: pass\n",
    "\n",
    "\n",
    "path = folder\n",
    "EW = '_GLIF1_neuron_config.json'\n",
    "specimen_id=int(os.path.basename(path)[:9])\n",
    "file=get_file_path_endswith(path, EW)\n",
    "\n",
    "# load data\n",
    "dir_name=os.path.join(relative_path, 'mouse_nwb/specimen_'+ str(specimen_id))\n",
    "all_sweeps=ctc.get_ephys_sweeps(specimen_id,  os.path.join(dir_name, 'ephys_sweeps.json'))\n",
    "#all_sweeps=ctc.get_ephys_sweeps(specimen_id)\n",
    "sweeps=get_sweep_num_by_name(all_sweeps, 'Noise 2')\n",
    "\n",
    "noise2_sweeps = get_sweep_num_by_name(all_sweeps, 'Noise 2')\n",
    "#    noise2_data=ctc.get_ephys_data(specimen_id).get_sweep(noise2_sweeps[0])\n",
    "noise2_data=ctc.get_ephys_data(specimen_id, os.path.join(dir_name, 'ephys.nwb')).get_sweep(noise2_sweeps[0])\n",
    "\n",
    "# run model with current\n",
    "stimulus2=noise2_data['stimulus']\n",
    "neuron_config=ju.read(file)\n",
    "neuron_config['dt']=1./noise2_data['sampling_rate'] #reset dt to the stimulus dt not the optimization dt\n",
    "neuron = GlifNeuron.from_dict(neuron_config)\n",
    "1/noise2_data['sampling_rate']\n",
    "run_data = neuron.run(stimulus2)\n",
    "run_data['time']=np.arange(0, len(run_data['voltage']))*neuron_config['dt']\n",
    "run_data['El_reference']=neuron_config['El_reference']    \n",
    "run_data['stimulus']=noise2_data['stimulus']\n",
    "LIF_model = run_data\n",
    "\n",
    "print('running LIF')\n",
    "# LIF_model=get_model(folder, '_GLIF1_neuron_config.json')\n",
    "pickle.dump(LIF_model, open(\"pkl_data/\"+str(specimen_id)+cre+\"_LIF_model.pkl\", \"wb\" ))\n",
    "print('GLIF1 done at',(time.time()-start_time)/60., 'min')\n",
    "\n",
    "# print('running LIFR')\n",
    "# LIFR_model=get_model(folder, '_GLIF2_neuron_config.json')\n",
    "# pickle.dump(LIFR_model, open(\"pkl_data/\"+str(specimen_id)+cre+\"_LIFR_model.pkl\", \"wb\" ))\n",
    "# print('GLIF2 done at',(time.time()-start_time)/60., 'min')\n",
    "\n",
    "# print('running LIFASC')\n",
    "# LIFASC_model=get_model(folder, '_GLIF3_neuron_config.json')\n",
    "# pickle.dump(LIFASC_model, open(\"pkl_data/\"+str(specimen_id)+cre+\"_LIFASC_model.pkl\", \"wb\" ))\n",
    "# print('GLIF3 done at',(time.time()-start_time)/60., 'min')\n",
    "\n",
    "# print('running LIFRASC')\n",
    "# LIFRASC_model=get_model(folder, '_GLIF4_neuron_config.json')\n",
    "# pickle.dump(LIFRASC_model, open(\"pkl_data/\"+str(specimen_id)+cre+\"_LIFRASC_model.pkl\", \"wb\" ))\n",
    "# print('GLIF4 done at',(time.time()-start_time)/60., 'min')\n",
    "\n",
    "# print('running LIFRASCAT')\n",
    "# LIFRASCAT_model=get_model(folder, '_GLIF5_neuron_config.json')\n",
    "# pickle.dump(LIFRASCAT_model, open(\"pkl_data/\"+str(specimen_id)+cre+\"_LIFRASCAT_model.pkl\", \"wb\" ))\n",
    "# print('GLIF5 done at',(time.time()-start_time)/60., 'min')\n",
    "\n"
   ]
  },
  {
   "cell_type": "markdown",
   "metadata": {},
   "source": []
  },
  {
   "cell_type": "code",
   "execution_count": 20,
   "metadata": {},
   "outputs": [
    {
     "data": {
      "text/plain": [
       "<allensdk.model.glif.glif_neuron.GlifNeuron at 0x7f92dbd58460>"
      ]
     },
     "execution_count": 20,
     "metadata": {},
     "output_type": "execute_result"
    }
   ],
   "source": [
    "neuron."
   ]
  },
  {
   "cell_type": "markdown",
   "metadata": {},
   "source": [
    "## Key variables are Voltage and Stimulus (external input current)"
   ]
  },
  {
   "cell_type": "code",
   "execution_count": 10,
   "metadata": {},
   "outputs": [
    {
     "data": {
      "image/png": "[encoded data removed]",
      "text/plain": [
       "<Figure size 432x288 with 1 Axes>"
      ]
     },
     "metadata": {
      "needs_background": "light"
     },
     "output_type": "display_data"
    }
   ],
   "source": [
    "V = LIF_model['voltage']\n",
    "t = LIF_model['time']\n",
    "S = LIF_model['stimulus']\n",
    "\n",
    "fig, ax = plt.subplots()\n",
    "ax.plot(t, V)\n",
    "ax.set_xlim(18,18.3)\n",
    "ax.set_ylabel('Voltage (V)')\n",
    "ax.set_xlabel('Time (s)')\n",
    "ax.set_title('Neuron Voltage Trace')\n",
    "plt.show()"
   ]
  },
  {
   "cell_type": "code",
   "execution_count": 11,
   "metadata": {},
   "outputs": [
    {
     "data": {
      "image/png": "[encoded data removed]",
      "text/plain": [
       "<Figure size 432x288 with 1 Axes>"
      ]
     },
     "metadata": {
      "needs_background": "light"
     },
     "output_type": "display_data"
    }
   ],
   "source": [
    "fig, ax = plt.subplots()\n",
    "ax.plot(t, S)\n",
    "ax.set_xlim(18,18.3)\n",
    "ax.set_xlabel('Time (s)')\n",
    "ax.set_ylabel('Current (A)')  # Check unit\n",
    "ax.set_title('External Input Current')\n",
    "plt.show()"
   ]
  },
  {
   "cell_type": "code",
   "execution_count": 12,
   "metadata": {},
   "outputs": [],
   "source": [
    "mask = np.logical_and(t>18, t<18.3)\n",
    "S_sub = S[mask]"
   ]
  },
  {
   "cell_type": "code",
   "execution_count": 15,
   "metadata": {},
   "outputs": [
    {
     "data": {
      "text/plain": [
       "{'El_reference': -0.06692888132731122,\n",
       " 'C': 5.974122556127248e-11,\n",
       " 'asc_amp_array': [-1.209661945253461e-11, -2.2298404030276979e-10],\n",
       " 'init_threshold': 0.02500695720882018,\n",
       " 'threshold_reset_method': {'params': {}, 'name': 'inf'},\n",
       " 'th_inf': 0.02500695720882018,\n",
       " 'spike_cut_length': 56,\n",
       " 'init_AScurrents': [0.0, 0.0],\n",
       " 'init_voltage': 0.0,\n",
       " 'threshold_dynamics_method': {'params': {}, 'name': 'inf'},\n",
       " 'voltage_reset_method': {'params': {}, 'name': 'zero'},\n",
       " 'extrapolation_method_name': 'endpoints',\n",
       " 'dt': 5e-05,\n",
       " 'voltage_dynamics_method': {'params': {}, 'name': 'linear_forward_euler'},\n",
       " 'El': 0.0,\n",
       " 'asc_tau_array': [0.3333333333333333, 0.01],\n",
       " 'R_input': 111019003.43890007,\n",
       " 'AScurrent_dynamics_method': {'params': {}, 'name': 'none'},\n",
       " 'AScurrent_reset_method': {'params': {}, 'name': 'none'},\n",
       " 'dt_multiplier': 10,\n",
       " 'th_adapt': None,\n",
       " 'coeffs': {'a': 1,\n",
       "  'C': 1,\n",
       "  'b': 1,\n",
       "  'G': 1,\n",
       "  'th_inf': 1.8465829511239957,\n",
       "  'asc_amp_array': [1.0, 1.0]},\n",
       " 'type': 'GLIF'}"
      ]
     },
     "execution_count": 15,
     "metadata": {},
     "output_type": "execute_result"
    }
   ],
   "source": [
    "import json\n",
    "\n",
    "filename = './GLIF_Teeter_et_al_2018/mouse_struc_data_dir/474637203_Htr3a-Cre_NO152/474637203_Htr3a-Cre_NO152_GLIF1_neuron_config.json'\n",
    "\n",
    "with open(filename) as f:\n",
    "    config = json.load(f)\n",
    "config"
   ]
  },
  {
   "cell_type": "code",
   "execution_count": 44,
   "metadata": {},
   "outputs": [],
   "source": [
    "\n"
   ]
  },
  {
   "cell_type": "code",
   "execution_count": null,
   "metadata": {},
   "outputs": [],
   "source": [
    "#GLIF_1 equation\n",
    "return voltage_t0 + (inj + np.sum(AScurrents_t0) - neuron.G * neuron.coeffs['G'] * (voltage_t0 - neuron.El)) * neuron.dt / (neuron.C * neuron.coeffs['C'])\n"
   ]
  },
  {
   "cell_type": "code",
   "execution_count": 16,
   "metadata": {},
   "outputs": [
    {
     "data": {
      "text/plain": [
       "0.0"
      ]
     },
     "execution_count": 16,
     "metadata": {},
     "output_type": "execute_result"
    }
   ],
   "source": [
    "config['El']"
   ]
  },
  {
   "cell_type": "markdown",
   "metadata": {},
   "source": [
    "## Apply same external input current to my GLIF "
   ]
  },
  {
   "cell_type": "code",
   "execution_count": 31,
   "metadata": {},
   "outputs": [
    {
     "data": {
      "text/plain": [
       "<pygenn.genn_wrapper.StlContainers.StringVector; proxy of <Swig Object of type 'std::vector< std::string > *' at 0x7f92dbcdfe40> >"
      ]
     },
     "execution_count": 31,
     "metadata": {},
     "output_type": "execute_result"
    }
   ],
   "source": [
    "GLIF_1.get_param_names()"
   ]
  },
  {
   "cell_type": "code",
   "execution_count": 42,
   "metadata": {},
   "outputs": [
    {
     "ename": "TypeError",
     "evalue": "'int' object is not iterable",
     "output_type": "error",
     "traceback": [
      "\u001b[0;31m---------------------------------------------------------------------------\u001b[0m",
      "\u001b[0;31mTypeError\u001b[0m                                 Traceback (most recent call last)",
      "\u001b[1;32m/Users/williamsnider/Desktop/Code/v1_project/compare_GLIF.ipynb Cell 16'\u001b[0m in \u001b[0;36m<cell line: 1>\u001b[0;34m()\u001b[0m\n\u001b[0;32m----> <a href='vscode-notebook-cell:/Users/williamsnider/Desktop/Code/v1_project/compare_GLIF.ipynb#ch0000017?line=0'>1</a>\u001b[0m x \u001b[39m=\u001b[39m [i \u001b[39mfor\u001b[39;00m i \u001b[39min\u001b[39;00m GLIF_1\u001b[39m.\u001b[39mget_var_index(\u001b[39m'\u001b[39m\u001b[39mV\u001b[39m\u001b[39m'\u001b[39m)]\n\u001b[1;32m      <a href='vscode-notebook-cell:/Users/williamsnider/Desktop/Code/v1_project/compare_GLIF.ipynb#ch0000017?line=1'>2</a>\u001b[0m \u001b[39mprint\u001b[39m(x)\n",
      "\u001b[0;31mTypeError\u001b[0m: 'int' object is not iterable"
     ]
    }
   ],
   "source": [
    "x = [i for i in GLIF_1.get_var_index('V')]\n",
    "print(x)"
   ]
  },
  {
   "cell_type": "code",
   "execution_count": 45,
   "metadata": {},
   "outputs": [
    {
     "name": "stdout",
     "output_type": "stream",
     "text": [
      "swig/python detected a memory leak of type 'CodeGenerator::SingleThreadedCPU::Backend *', no destructor found.\n"
     ]
    },
    {
     "data": {
      "image/png": "[encoded data removed]",
      "text/plain": [
       "<Figure size 432x288 with 1 Axes>"
      ]
     },
     "metadata": {
      "needs_background": "light"
     },
     "output_type": "display_data"
    }
   ],
   "source": [
    "# from GLIF_models import GLIF_1\n",
    "from pygenn.genn_model import GeNNModel, create_custom_current_source_class, create_custom_neuron_class\n",
    "from pygenn.genn_groups import CurrentSource\n",
    "import matplotlib.pyplot as plt\n",
    "\n",
    "GLIF_1 = create_custom_neuron_class(\n",
    "    \"GLIF_1\",\n",
    "    param_names = [\"C\", \"G\", \"El\", \"V_thres\"],\n",
    "    var_name_types=[(\"V\", \"scalar\")],\n",
    "    sim_code='$(V)+=1/$(C)*($(Isyn)-$(G)*($(V)-$(El)))*DT;',\n",
    "    threshold_condition_code='$(V)>=$(V_thres)',\n",
    "    reset_code = '$(V)=$(El);',\n",
    ")\n",
    "\n",
    "# Convert Allen Units to PyGenn\n",
    "# TODO: Convert order of magnitudes\n",
    "units_dict = {\n",
    "    'C': config['C'] *1e12,\n",
    "    'G': 1 / config['R_input'] * 1e6,\n",
    "    'El': config['El'] * 1e3,\n",
    "    'V_thres': config['th_inf'] * 1e3,\n",
    "    'dT' : config['dt'] * 1e3,\n",
    "    'V': config['init_voltage'] * 1e3, \n",
    "}\n",
    "\n",
    "### Add GLIF Class to model ###\n",
    "# TODO: copy parameters from Teeter 2018 config file\n",
    "GLIF_1_params = {k:units_dict[k] for k in GLIF_1.get_param_names()}\n",
    "GLIF_1_init = {k:units_dict[k] for k in ['V']}\n",
    "\n",
    "# GLIF_1_params = {\"C\":  5.974122556127248e-11 * 1e12,\n",
    "#               \"G\":1/(111019003.43890007)*1e6,\n",
    "#               \"El\": -0.06692888132731122*1e3,  # mV\n",
    "#               \"V_thres\": 0.02500695720882018 *1e3}\n",
    "num_GLIF = 1\n",
    "model = GeNNModel(\"float\", \"GLIF_1\")\n",
    "model.dT=units_dict['dT']\n",
    "pop1 = model.add_neuron_population(\n",
    "    pop_name = \"pop1\",\n",
    "    num_neurons = num_GLIF,\n",
    "    neuron = GLIF_1,\n",
    "    param_space = GLIF_1_params,\n",
    "    var_space = GLIF_1_init,\n",
    ")\n",
    "\n",
    "\n",
    "# Add DC current to model - works!\n",
    "# cs = model.add_current_source(\n",
    "#     cs_name = \"external_current\",\n",
    "#     current_source_model=\"DC\",\n",
    "#     pop=pop1,\n",
    "#     param_space={'amp': 40.0},\n",
    "#     var_space = {},\n",
    "# )\n",
    "\n",
    "# external_current_source = create_custom_current_source_class(\n",
    "#     class_name = \"external_current\",\n",
    "#     var_name_types = [(\"step\", \"unsigned int\") ],  \n",
    "#     injection_code = \"\"\"\n",
    "#     if ($(step) > 200 && $(step) < 1500) {\n",
    "#         $(injectCurrent, 50.0);\n",
    "#     }\n",
    "#     $(step)++;\n",
    "#     \"\"\",\n",
    "#     extra_global_params=[(\"Ie\", \"float*\")])\n",
    "\n",
    "# cs_ini = {\"step\": 0}  # external input current from Teeter 2018\n",
    "# cs = model.add_current_source(\n",
    "#     cs_name = \"external_current_source\", \n",
    "#     current_source_model=external_current_source,\n",
    "#     pop = pop1,\n",
    "#     param_space = {},\n",
    "#     var_space = cs_ini)\n",
    "\n",
    "# cs.set_extra_global_param(\"Ie\", S)\n",
    "\n",
    "### Add current source to model ###\n",
    "external_current_source = create_custom_current_source_class(\n",
    "    class_name = \"external_current\",\n",
    "    var_name_types = [(\"step\", \"unsigned int\"), (\"current\", \"float\") ],  \n",
    "    injection_code = \"\"\"\n",
    "    $(current)=$(Ie)[$(step)];\n",
    "    $(injectCurrent,$(current) );\n",
    "    $(step)++;\n",
    "    \"\"\",\n",
    "    extra_global_params=[(\"Ie\", \"float*\")]\n",
    ")\n",
    "cs_ini = {\"step\": 0, \"current\":0.0}  # external input current from Teeter 2018\n",
    "cs = model.add_current_source(\n",
    "    cs_name = \"external_current_source\", \n",
    "    current_source_model=external_current_source,\n",
    "    pop = pop1,\n",
    "    param_space = {},\n",
    "    var_space = cs_ini)\n",
    "\n",
    "scale = 1e9\n",
    "cs.set_extra_global_param(\"Ie\", S_sub*scale)\n",
    "\n",
    "\n",
    "model.build()\n",
    "model.load()\n",
    "\n",
    "# Run a quick simulation\n",
    "num_steps = len(S_sub)\n",
    "v = np.empty((num_steps, num_GLIF))\n",
    "# c = np.empty((2000, num_GLIF))\n",
    "v_view = pop1.vars[\"V\"].view\n",
    "# c_view = cs.vars[\"current\"].view\n",
    "for i in range(num_steps):\n",
    "    model.step_time()\n",
    "    pop1.pull_var_from_device(\"V\")\n",
    "    # cs.pull_var_from_device(\"current\")\n",
    "    \n",
    "    v[model.timestep - 1,:]=v_view[:]\n",
    "    # c[model.timestep - 1,:]=c_view[:]\n",
    "# Plot the results -- voltage of the neuron for 200 timesteps\n",
    "fig, axis = plt.subplots()\n",
    "axis.plot(v[:num_steps,:])\n",
    "axis.set_xlabel('Timesteps')\n",
    "axis.set_ylabel('mV')\n",
    "plt.show()"
   ]
  },
  {
   "cell_type": "code",
   "execution_count": 26,
   "metadata": {},
   "outputs": [
    {
     "data": {
      "text/plain": [
       "{'El_reference': -0.06692888132731122,\n",
       " 'C': 5.974122556127248e-11,\n",
       " 'asc_amp_array': [-1.209661945253461e-11, -2.2298404030276979e-10],\n",
       " 'init_threshold': 0.02500695720882018,\n",
       " 'threshold_reset_method': {'params': {}, 'name': 'inf'},\n",
       " 'th_inf': 0.02500695720882018,\n",
       " 'spike_cut_length': 56,\n",
       " 'init_AScurrents': [0.0, 0.0],\n",
       " 'init_voltage': 0.0,\n",
       " 'threshold_dynamics_method': {'params': {}, 'name': 'inf'},\n",
       " 'voltage_reset_method': {'params': {}, 'name': 'zero'},\n",
       " 'extrapolation_method_name': 'endpoints',\n",
       " 'dt': 5e-05,\n",
       " 'voltage_dynamics_method': {'params': {}, 'name': 'linear_forward_euler'},\n",
       " 'El': 0.0,\n",
       " 'asc_tau_array': [0.3333333333333333, 0.01],\n",
       " 'R_input': 111019003.43890007,\n",
       " 'AScurrent_dynamics_method': {'params': {}, 'name': 'none'},\n",
       " 'AScurrent_reset_method': {'params': {}, 'name': 'none'},\n",
       " 'dt_multiplier': 10,\n",
       " 'th_adapt': None,\n",
       " 'coeffs': {'a': 1,\n",
       "  'C': 1,\n",
       "  'b': 1,\n",
       "  'G': 1,\n",
       "  'th_inf': 1.8465829511239957,\n",
       "  'asc_amp_array': [1.0, 1.0]},\n",
       " 'type': 'GLIF'}"
      ]
     },
     "execution_count": 26,
     "metadata": {},
     "output_type": "execute_result"
    }
   ],
   "source": [
    "config"
   ]
  },
  {
   "cell_type": "code",
   "execution_count": null,
   "metadata": {},
   "outputs": [],
   "source": [
    "\n",
    "\n",
    "# ### Add current source to model ###\n",
    "# external_current_source = create_custom_current_source_class(\n",
    "#     class_name = \"external_current\",\n",
    "#     var_name_types = [(\"step\", \"unsigned int\") ],  # How to index array?\n",
    "#     injection_code = \"\"\"\n",
    "#     $(injectCurrent, $(current_array)[$(step)]);\n",
    "#     $(step)++;\n",
    "#     \"\"\",\n",
    "# )\n",
    "# cs_ini = {\"step\": 0, \"current_array\": S}  # external input current from Teeter 2018\n",
    "# model.add_current_source(\n",
    "#     cs_name = \"external_current_source\", \n",
    "#     current_source_model=external_current_source,\n",
    "#     pop = pop1,\n",
    "#     param_space = {},\n",
    "#     var_space = cs_ini)\n",
    "# # pop.set_extra_global_param(\"input\",numpy_array)\n",
    "# # Global implies same for all neuron\n",
    "# # extra_global_params = [(\"current_array\", \"float*\")]\n",
    "# #extra global parameter=[(\"R\", \"float\")]\n",
    "# # float* means its an array you can give a size for\n",
    "# # Can access time with $(T)\n",
    "# # $(input)[$(id)*$(max_t)+(int)($(t) / DT)] \n",
    "\n",
    "# model.build()\n",
    "# model.load()\n",
    "\n",
    "# # Run a quick simulation\n",
    "# v = np.empty((2000, num_GLIF))\n",
    "# v_view = pop1.vars[\"V\"].view\n",
    "# while model.t < 200.0:\n",
    "#     model.step_time()\n",
    "#     pop1.pull_var_from_device(\"V\")\n",
    "    \n",
    "#     v[model.timestep - 1,:]=v_view[:]\n",
    "    \n",
    "# # Plot the results -- voltage of the neuron for 200 timesteps\n",
    "# fig, axis = plt.subplots()\n",
    "# axis.plot(v[:2000,:])\n",
    "# axis.set_xlabel('Timesteps')\n",
    "# axis.set_ylabel('mV')\n",
    "# plt.show()\n",
    "\n",
    "# ### Add current source to model ###\n",
    "# external_current_source = create_custom_current_source_class(\n",
    "#     class_name = \"external_current\",\n",
    "#     var_name_types = [(\"step\", \"unsigned int\") ],  # How to index array?\n",
    "#     injection_code = \"\"\"\n",
    "#     $(injectCurrent, $(current_array)[$(step)]);\n",
    "#     $(step)++;\n",
    "#     \"\"\",\n",
    "# )\n",
    "# cs_ini = {\"step\": 0, \"current_array\": S}  # external input current from Teeter 2018\n",
    "# model.add_current_source(\n",
    "#     cs_name = \"external_current_source\", \n",
    "#     current_source_model=external_current_source,\n",
    "#     pop = pop1,\n",
    "#     param_space = {},\n",
    "#     var_space = cs_ini)\n",
    "# # pop.set_extra_global_param(\"input\",numpy_array)\n",
    "# # Global implies same for all neuron\n",
    "# # extra_global_params = [(\"current_array\", \"float*\")]\n",
    "# #extra global parameter=[(\"R\", \"float\")]\n",
    "# # float* means its an array you can give a size for\n",
    "# # Can access time with $(T)\n",
    "# # $(input)[$(id)*$(max_t)+(int)($(t) / DT)] \n",
    "\n",
    "# model.build()\n",
    "# model.load()\n",
    "\n",
    "# # Run a quick simulation\n",
    "# v = np.empty((2000, num_GLIF))\n",
    "# v_view = pop1.vars[\"V\"].view\n",
    "# while model.t < 200.0:\n",
    "#     model.step_time()\n",
    "#     pop1.pull_var_from_device(\"V\")\n",
    "    \n",
    "#     v[model.timestep - 1,:]=v_view[:]\n",
    "    \n",
    "# # Plot the results -- voltage of the neuron for 200 timesteps\n",
    "# fig, axis = plt.subplots()\n",
    "# axis.plot(v[:2000,:])\n",
    "# axis.set_xlabel('Timesteps')\n",
    "# axis.set_ylabel('mV')\n",
    "# plt.show()"
   ]
  }
 ],
 "metadata": {
  "interpreter": {
   "hash": "f9a6ebe48ae0d4674325f7227645fc29e2e7a4b825b1e6cd9528d5a70451385b"
  },
  "kernelspec": {
   "display_name": "Python 3.6.13 ('v1_venv')",
   "language": "python",
   "name": "python3"
  },
  "language_info": {
   "codemirror_mode": {
    "name": "ipython",
    "version": 3
   },
   "file_extension": ".py",
   "mimetype": "text/x-python",
   "name": "python",
   "nbconvert_exporter": "python",
   "pygments_lexer": "ipython3",
   "version": "3.8.13"
  },
  "orig_nbformat": 4
 },
 "nbformat": 4,
 "nbformat_minor": 2
}
