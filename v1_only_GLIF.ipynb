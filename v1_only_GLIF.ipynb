{
 "cells": [
  {
   "cell_type": "markdown",
   "metadata": {},
   "source": [
    "# Prototype of model with just V1 Neurons"
   ]
  },
  {
   "cell_type": "markdown",
   "metadata": {},
   "source": [
    "## Load data from GLIF Network directory"
   ]
  },
  {
   "cell_type": "code",
   "execution_count": 1,
   "metadata": {},
   "outputs": [],
   "source": [
    "import numpy as np\n",
    "import pandas as pd\n",
    "from sonata.circuit import File\n",
    "from pathlib import Path\n",
    "import pickle\n",
    "from pygenn.genn_model import GeNNModel, init_connectivity, create_custom_neuron_class\n",
    "from pygenn.genn_wrapper import NO_DELAY\n",
    "import matplotlib.pyplot as plt\n",
    "\n",
    "path_v1_nodes = Path(r\"GLIF Network/network/v1_nodes.h5\")\n",
    "path_v1_nodes_types = Path(r\"GLIF Network/network/v1_node_types.csv\")\n",
    "path_v1_edges = Path(r\"GLIF Network/network/v1_v1_edges.h5\")\n",
    "path_v1_edges_types = Path(r\"GLIF Network/network/v1_v1_edge_types.csv\")\n",
    "\n",
    "net = File(data_files=[path_v1_nodes, path_v1_edges], \n",
    "           data_type_files=[path_v1_nodes_types, path_v1_edges_types])\n",
    "\n",
    "v1_nodes = net.nodes['v1']\n",
    "v1_group = v1_nodes.get_group(v1_nodes.group_ids[0])  # Only 1 group in v1_nodes\n",
    "v1_num_nodes = len(v1_group)\n",
    "\n",
    "v1_edges = net.edges['v1_to_v1']\n",
    "v1_num_edges = len(v1_edges)"
   ]
  },
  {
   "cell_type": "markdown",
   "metadata": {},
   "source": [
    "## Extract pre_indices and post_indices from edges\n",
    "### Save as pickle file to avoid having to go through the loop again"
   ]
  },
  {
   "cell_type": "code",
   "execution_count": 2,
   "metadata": {},
   "outputs": [],
   "source": [
    "filename = 'v1_source_target_pairs.pickle'\n",
    "\n",
    "if Path(filename).is_file():\n",
    "\n",
    "    with open(filename, \"rb\") as f:\n",
    "        source_target_pairs = pickle.load(f)\n",
    "        \n",
    "else:\n",
    "    \n",
    "    source_target_pairs = np.zeros((v1_num_edges, 2), dtype='int64')\n",
    "    \n",
    "    # TODO: Faster way to read edges besides looping?\n",
    "    for i, edge in enumerate(v1_edges):\n",
    "        \n",
    "        if i % 10000 == 0:\n",
    "            print(\"{i} of {v1_num_edges}\".format(i=i, v1_num_edges=v1_num_edges))\n",
    "            \n",
    "        source = edge.source_node_id\n",
    "        target = edge.target_node_id\n",
    "        source_target_pairs[i] = [source, target]\n",
    "\n",
    "    with open(filename, \"wb\") as f:\n",
    "        pickle.dump(source_target_pairs, f) \n",
    "        \n",
    "pre_indices, post_indices = source_target_pairs.T"
   ]
  },
  {
   "cell_type": "markdown",
   "metadata": {},
   "source": []
  },
  {
   "cell_type": "code",
   "execution_count": 11,
   "metadata": {},
   "outputs": [
    {
     "data": {
      "image/png": "[encoded data removed]",
      "text/plain": [
       "<Figure size 432x288 with 1 Axes>"
      ]
     },
     "metadata": {
      "needs_background": "light"
     },
     "output_type": "display_data"
    }
   ],
   "source": [
    "izk_model = create_custom_neuron_class(\n",
    "    \"izk\",\n",
    "    param_names=[\"a\",\"b\",\"c\",\"d\"],\n",
    "    var_name_types=[(\"V\", \"scalar\"), (\"U\", \"scalar\")],\n",
    "    sim_code=\n",
    "    \"\"\"\n",
    "    $(V)+=0.5*(0.04*$(V)*$(V)+5.0*$(V)+140.0-$(U)+$(Isyn))*DT;\n",
    "    $(V)+=0.5*(0.04*$(V)*$(V)+5.0*$(V)+140.0-$(U)+$(Isyn))*DT;\n",
    "    $(U)+=$(a)*($(b)*$(V)-$(U))*DT;\"\"\",\n",
    "    threshold_condition_code=\"$(V) >= 30.0\",\n",
    "    reset_code=\n",
    "    \"\"\"\n",
    "    $(V)=$(c);\n",
    "    $(U)+=$(d);\n",
    "    \"\"\"\n",
    ")\n",
    "\n",
    "izk_params = {\n",
    "    \"a\": 0.02,\n",
    "    \"b\": 0.2,\n",
    "    \"c\": -65.0,\n",
    "    \"d\": 8.0}\n",
    "\n",
    "izk_init = {\n",
    "    \"V\": -65.0,\n",
    "    \"U\": -20.0}\n",
    "\n",
    "num_izk = 100\n",
    "\n",
    "model = GeNNModel(\"float\", \"izk_test\")\n",
    "model.dT = 0.1\n",
    "pop1 = model.add_neuron_population(\n",
    "    pop_name = \"pop1\",\n",
    "    num_neurons=num_izk,\n",
    "    neuron = izk_model,\n",
    "    param_space=izk_params,\n",
    "    var_space = izk_init,\n",
    ")\n",
    "\n",
    "\n",
    "\n",
    "# What are params vs init?\n",
    "# Parameters don't change, variables do\n",
    "\n",
    "model.build()\n",
    "model.load()\n",
    "\n",
    "# Run a quick simulation\n",
    "v = np.empty((2000, num_izk))\n",
    "v_view = pop1.vars[\"V\"].view\n",
    "while model.t < 200.0:\n",
    "    model.step_time()\n",
    "    pop1.pull_var_from_device(\"V\")\n",
    "    \n",
    "    v[model.timestep - 1,:]=v_view[:]\n",
    "    \n",
    "# Plot the results -- voltage of every 1000th neuron for 200 timesteps\n",
    "fig, axis = plt.subplots()\n",
    "axis.plot(v[:200,:])\n",
    "axis.set_xlabel('Timesteps')\n",
    "axis.set_ylabel('mV')\n",
    "plt.show()\n"
   ]
  },
  {
   "cell_type": "code",
   "execution_count": 26,
   "metadata": {},
   "outputs": [
    {
     "data": {
      "image/png": "[encoded data removed]",
      "text/plain": [
       "<Figure size 432x288 with 1 Axes>"
      ]
     },
     "metadata": {
      "needs_background": "light"
     },
     "output_type": "display_data"
    }
   ],
   "source": [
    "# Ie is actually time-dependent - should be a variable like V?\n",
    "# But notes say \"V is only state variable in this case\"\n",
    "# BUG: sim_code and reset_code require semicolon, but threshold condition does not?\n",
    "\n",
    "\n",
    "GLIF = create_custom_neuron_class(\n",
    "    \"GLIF\",\n",
    "    param_names = [\"C\", \"G\", \"E\", \"I\", \"V_thres\"],\n",
    "    var_name_types=[(\"V\", \"scalar\")],\n",
    "    sim_code='$(V)+=1/$(C)*($(I)-$(G)*($(V)-$(E)));',\n",
    "    threshold_condition_code='$(V)>=$(V_thres)',\n",
    "    reset_code = '$(V)=$(E);'\n",
    ")\n",
    "\n",
    "GLIF_params = {\"C\": 60.72,\n",
    "              \"G\": 1.0,\n",
    "              \"E\": -79.04,\n",
    "              \"I\": 10.0,\n",
    "              \"V_thres\": -49.63}\n",
    "\n",
    "GLIF_init = {\"V\": -65.0}\n",
    "\n",
    "num_GLIF = 100\n",
    "\n",
    "model = GeNNModel(\"float\", \"GLIF_test\")\n",
    "model.dT=0.1\n",
    "pop1 = model.add_neuron_population(\n",
    "    pop_name = \"pop1\",\n",
    "    num_neurons = num_GLIF,\n",
    "    neuron = GLIF,\n",
    "    param_space = GLIF_params,\n",
    "    var_space = GLIF_init,\n",
    ")\n",
    "\n",
    "\n",
    "model.build()\n",
    "model.load()\n",
    "\n",
    "# Run a quick simulation\n",
    "v = np.empty((2000, num_GLIF))\n",
    "v_view = pop1.vars[\"V\"].view\n",
    "while model.t < 200.0:\n",
    "    model.step_time()\n",
    "    pop1.pull_var_from_device(\"V\")\n",
    "    \n",
    "    v[model.timestep - 1,:]=v_view[:]\n",
    "    \n",
    "# Plot the results -- voltage of every 1000th neuron for 200 timesteps\n",
    "fig, axis = plt.subplots()\n",
    "axis.plot(v[:200,:])\n",
    "axis.set_xlabel('Timesteps')\n",
    "axis.set_ylabel('mV')\n",
    "plt.show()\n",
    "\n",
    "# GLIF_1 = create_custom_neuron_class(\n",
    "#     \"GLIF_1\",\n",
    "#     param_names = [\"C_m\", \"Ie\", \"E\", \"V_th\", \"V_reset\"],\n",
    "#     var_name_types = [(\"V\", \"scalar\")],\n",
    "#     sim_code = \n",
    "#     \"\"\"\n",
    "#     $(V)+=1/$(C_m)*($(Ie) - G*($(V) -$(E)))*DT;\n",
    "#     \"\"\",\n",
    "#     threshold_condition_code = \"$(V) >= $(V_th);\",\n",
    "#     reset_code = \"$(V)=$(V_reset));\"\n",
    "#                                    )"
   ]
  },
  {
   "cell_type": "code",
   "execution_count": 7,
   "metadata": {},
   "outputs": [
    {
     "data": {
      "text/plain": [
       "<pygenn.genn_model.GLIF; proxy of <Swig Object of type 'NeuronModels::Custom *' at 0x7f02e212eba0> >"
      ]
     },
     "execution_count": 7,
     "metadata": {},
     "output_type": "execute_result"
    }
   ],
   "source": [
    "GLIF."
   ]
  },
  {
   "cell_type": "code",
   "execution_count": 5,
   "metadata": {},
   "outputs": [
    {
     "ename": "CalledProcessError",
     "evalue": "Command '['make', '-j', '8', '-C', './GLIF_CODE']' returned non-zero exit status 2.",
     "output_type": "error",
     "traceback": [
      "\u001b[0;31m---------------------------------------------------------------------------\u001b[0m",
      "\u001b[0;31mCalledProcessError\u001b[0m                        Traceback (most recent call last)",
      "\u001b[0;32m<ipython-input-5-c77e2f7a4290>\u001b[0m in \u001b[0;36m<module>\u001b[0;34m\u001b[0m\n\u001b[1;32m     12\u001b[0m \u001b[0mv1_pop\u001b[0m \u001b[0;34m=\u001b[0m \u001b[0mmodel\u001b[0m\u001b[0;34m.\u001b[0m\u001b[0madd_neuron_population\u001b[0m\u001b[0;34m(\u001b[0m\u001b[0;34m\"v1_pop\"\u001b[0m\u001b[0;34m,\u001b[0m \u001b[0mv1_num_nodes\u001b[0m\u001b[0;34m,\u001b[0m \u001b[0mGLIF_1\u001b[0m\u001b[0;34m,\u001b[0m \u001b[0mGLIF_1_p\u001b[0m\u001b[0;34m,\u001b[0m \u001b[0mGLIF_1_init\u001b[0m\u001b[0;34m)\u001b[0m\u001b[0;34m\u001b[0m\u001b[0;34m\u001b[0m\u001b[0m\n\u001b[1;32m     13\u001b[0m \u001b[0;34m\u001b[0m\u001b[0m\n\u001b[0;32m---> 14\u001b[0;31m \u001b[0mmodel\u001b[0m\u001b[0;34m.\u001b[0m\u001b[0mbuild\u001b[0m\u001b[0;34m(\u001b[0m\u001b[0;34m)\u001b[0m\u001b[0;34m\u001b[0m\u001b[0;34m\u001b[0m\u001b[0m\n\u001b[0m\u001b[1;32m     15\u001b[0m \u001b[0mmodel\u001b[0m\u001b[0;34m.\u001b[0m\u001b[0mload\u001b[0m\u001b[0;34m(\u001b[0m\u001b[0;34m)\u001b[0m\u001b[0;34m\u001b[0m\u001b[0;34m\u001b[0m\u001b[0m\n\u001b[1;32m     16\u001b[0m \u001b[0;34m\u001b[0m\u001b[0m\n",
      "\u001b[0;32m~/Documents/miniconda3/envs/v1_venv/lib/python3.6/site-packages/pygenn/genn_model.py\u001b[0m in \u001b[0;36mbuild\u001b[0;34m(self, path_to_model, force_rebuild)\u001b[0m\n\u001b[1;32m    594\u001b[0m                         path.join(output_path, \"runner.vcxproj\")])\n\u001b[1;32m    595\u001b[0m         \u001b[0;32melse\u001b[0m\u001b[0;34m:\u001b[0m\u001b[0;34m\u001b[0m\u001b[0;34m\u001b[0m\u001b[0m\n\u001b[0;32m--> 596\u001b[0;31m             \u001b[0mcheck_call\u001b[0m\u001b[0;34m(\u001b[0m\u001b[0;34m[\u001b[0m\u001b[0;34m\"make\"\u001b[0m\u001b[0;34m,\u001b[0m \u001b[0;34m\"-j\"\u001b[0m\u001b[0;34m,\u001b[0m \u001b[0mstr\u001b[0m\u001b[0;34m(\u001b[0m\u001b[0mcpu_count\u001b[0m\u001b[0;34m(\u001b[0m\u001b[0mlogical\u001b[0m\u001b[0;34m=\u001b[0m\u001b[0;32mFalse\u001b[0m\u001b[0;34m)\u001b[0m\u001b[0;34m)\u001b[0m\u001b[0;34m,\u001b[0m \u001b[0;34m\"-C\"\u001b[0m\u001b[0;34m,\u001b[0m \u001b[0moutput_path\u001b[0m\u001b[0;34m]\u001b[0m\u001b[0;34m)\u001b[0m\u001b[0;34m\u001b[0m\u001b[0;34m\u001b[0m\u001b[0m\n\u001b[0m\u001b[1;32m    597\u001b[0m \u001b[0;34m\u001b[0m\u001b[0m\n\u001b[1;32m    598\u001b[0m         \u001b[0mself\u001b[0m\u001b[0;34m.\u001b[0m\u001b[0m_built\u001b[0m \u001b[0;34m=\u001b[0m \u001b[0;32mTrue\u001b[0m\u001b[0;34m\u001b[0m\u001b[0;34m\u001b[0m\u001b[0m\n",
      "\u001b[0;32m~/Documents/miniconda3/envs/v1_venv/lib/python3.6/subprocess.py\u001b[0m in \u001b[0;36mcheck_call\u001b[0;34m(*popenargs, **kwargs)\u001b[0m\n\u001b[1;32m    309\u001b[0m         \u001b[0;32mif\u001b[0m \u001b[0mcmd\u001b[0m \u001b[0;32mis\u001b[0m \u001b[0;32mNone\u001b[0m\u001b[0;34m:\u001b[0m\u001b[0;34m\u001b[0m\u001b[0;34m\u001b[0m\u001b[0m\n\u001b[1;32m    310\u001b[0m             \u001b[0mcmd\u001b[0m \u001b[0;34m=\u001b[0m \u001b[0mpopenargs\u001b[0m\u001b[0;34m[\u001b[0m\u001b[0;36m0\u001b[0m\u001b[0;34m]\u001b[0m\u001b[0;34m\u001b[0m\u001b[0;34m\u001b[0m\u001b[0m\n\u001b[0;32m--> 311\u001b[0;31m         \u001b[0;32mraise\u001b[0m \u001b[0mCalledProcessError\u001b[0m\u001b[0;34m(\u001b[0m\u001b[0mretcode\u001b[0m\u001b[0;34m,\u001b[0m \u001b[0mcmd\u001b[0m\u001b[0;34m)\u001b[0m\u001b[0;34m\u001b[0m\u001b[0;34m\u001b[0m\u001b[0m\n\u001b[0m\u001b[1;32m    312\u001b[0m     \u001b[0;32mreturn\u001b[0m \u001b[0;36m0\u001b[0m\u001b[0;34m\u001b[0m\u001b[0;34m\u001b[0m\u001b[0m\n\u001b[1;32m    313\u001b[0m \u001b[0;34m\u001b[0m\u001b[0m\n",
      "\u001b[0;31mCalledProcessError\u001b[0m: Command '['make', '-j', '8', '-C', './GLIF_CODE']' returned non-zero exit status 2."
     ]
    }
   ],
   "source": [
    "model = GeNNModel(\"float\", \"GLIF\")\n",
    "model.dT = 0.1\n",
    "v1_num_nodes = 100\n",
    "# Parameters copied from single neuron group as first pass \n",
    "# Unclear what value Ie should be\n",
    "GLIF_1_p = {\"C_m\": 60.72689987399939,\n",
    "              \"Ie\": 0.0,\n",
    "              \"E\": -79.0417277018229,\n",
    "              \"V_th\": -49.63934810542196,\n",
    "              \"V_reset\": -79.0417277018229}\n",
    "GLIF_1_init = {\"V\": -65.0}\n",
    "v1_pop = model.add_neuron_population(\"v1_pop\", v1_num_nodes, GLIF_1, GLIF_1_p, GLIF_1_init)\n",
    "\n",
    "model.build()\n",
    "model.load()\n",
    "\n",
    "# # Run a quick simulation\n",
    "# v = np.empty((2000, v1_num_nodes))\n",
    "# v_view = v1_pop.vars[\"V\"].view\n",
    "# while model.t < 200.0:\n",
    "#     model.step_time()\n",
    "#     v1_pop.pull_var_from_device(\"V\")\n",
    "    \n",
    "#     v[model.timestep - 1,:]=v_view[:]\n",
    "    \n",
    "# # Plot the results -- voltage of every 1000th neuron for 200 timesteps\n",
    "# fig, axis = plt.subplots()\n",
    "# axis.plot(v[:200,::1000])\n",
    "# axis.set_xlabel('Timesteps')\n",
    "# axis.set_ylabel('mV')\n",
    "# plt.show()"
   ]
  },
  {
   "cell_type": "markdown",
   "metadata": {},
   "source": [
    "## Construct model"
   ]
  },
  {
   "cell_type": "code",
   "execution_count": 6,
   "metadata": {
    "scrolled": false
   },
   "outputs": [
    {
     "data": {
      "image/png": "[encoded data removed]",
      "text/plain": [
       "<Figure size 432x288 with 1 Axes>"
      ]
     },
     "metadata": {
      "needs_background": "light"
     },
     "output_type": "display_data"
    }
   ],
   "source": [
    "# Parameters copied from pygenn tutorial as a first pass\n",
    "p = {\"gNa\": 7.15,   # Na conductance in [muS]\n",
    "     \"ENa\": 50.0,   # Na equi potential [mV]\n",
    "     \"gK\": 1.43,    # K conductance in [muS]\n",
    "     \"EK\": -95.0,   # K equi potential [mV] \n",
    "     \"gl\": 0.02672, # leak conductance [muS]\n",
    "     \"El\": -63.563, # El: leak equi potential in mV, \n",
    "     \"C\": 0.143}    # membr. capacity density in nF\n",
    "ini = {\"V\": -60.0,      # membrane potential\n",
    "       \"m\": 0.0529324,  # prob. for Na channel activation\n",
    "       \"h\": 0.3176767,  # prob. for not Na channel blocking\n",
    "       \"n\": 0.5961207}  # prob. for K channel activation\n",
    "s_ini = {\"g\": -0.2}\n",
    "ps_p = {\"tau\": 1.0, # Decay time constant [ms] \n",
    "        \"E\": -80.0} # Reversal potential [mV]\n",
    "\n",
    "model = GeNNModel(\"float\", \"v1_only\")\n",
    "model.dT = 0.1\n",
    "\n",
    "# Create v1 population\n",
    "v1_pop = model.add_neuron_population(\"v1_pop\", v1_num_nodes , \"TraubMiles\", p, ini)\n",
    "\n",
    "# Create v1 to v1 synapse population\n",
    "v1_pop_synapses = model.add_synapse_population(    pop_name = \"v1_pop_synapses\",\n",
    "    matrix_type = \"SPARSE_GLOBALG\",\n",
    "    delay_steps = 10,\n",
    "    source = \"v1_pop\",\n",
    "    target = \"v1_pop\",\n",
    "    w_update_model = \"StaticPulse\",\n",
    "    wu_param_space = {},\n",
    "    wu_var_space = s_ini,\n",
    "    wu_pre_var_space = {},\n",
    "    wu_post_var_space = {},\n",
    "    postsyn_model = \"ExpCond\",\n",
    "    ps_param_space = ps_p,\n",
    "    ps_var_space = {},\n",
    "    connectivity_initialiser=None,\n",
    ")\n",
    "\n",
    "# Assign the synapse connections\n",
    "v1_pop_synapses.set_sparse_connections(pre_indices, post_indices)\n",
    "\n",
    "# Add initial stimulus to first neuron in v1_pop\n",
    "initial_stimulus = {\"startSpike\": [0], \"endSpike\": [1]}\n",
    "stim_pop = model.add_neuron_population(\"Stim\", 1, \"SpikeSourceArray\", {}, initial_stimulus)\n",
    "model.add_synapse_population(\"StimPop1\", \"SPARSE_GLOBALG\", NO_DELAY,\n",
    "    stim_pop, v1_pop,\n",
    "    \"StaticPulse\", {}, s_ini, {}, {},\n",
    "    \"ExpCond\", ps_p, {},\n",
    "    init_connectivity(\"OneToOne\", {}))\n",
    "stim_pop.set_extra_global_param(\"spikeTimes\", [0.0])\n",
    "\n",
    "# Build the model\n",
    "model.build()\n",
    "model.load()\n",
    "\n",
    "# Run a quick simulation\n",
    "v = np.empty((2000, v1_num_nodes))\n",
    "v_view = v1_pop.vars[\"V\"].view\n",
    "while model.t < 200.0:\n",
    "    model.step_time()\n",
    "    v1_pop.pull_var_from_device(\"V\")\n",
    "    \n",
    "    v[model.timestep - 1,:]=v_view[:]\n",
    "    \n",
    "# Plot the results -- voltage of every 1000th neuron for 200 timesteps\n",
    "fig, axis = plt.subplots()\n",
    "axis.plot(v[:200,::1000])\n",
    "axis.set_xlabel('Timesteps')\n",
    "axis.set_ylabel('mV')\n",
    "plt.show()"
   ]
  },
  {
   "cell_type": "markdown",
   "metadata": {},
   "source": [
    "## Current prototype v1 model results in runaway/unrealistic excitation (voltages reaching 1e38 mV)\n",
    "\n",
    "### Improvements to make to get better results: incorporating the values specific to each edge (syn_weight, weight_function, weight_sigma, delay) as well as the dynamics_params in the associated .json files\n"
   ]
  }
 ],
 "metadata": {
  "interpreter": {
   "hash": "f9a6ebe48ae0d4674325f7227645fc29e2e7a4b825b1e6cd9528d5a70451385b"
  },
  "kernelspec": {
   "display_name": "Python 3.6.13 ('v1_venv')",
   "language": "python",
   "name": "python3"
  },
  "language_info": {
   "codemirror_mode": {
    "name": "ipython",
    "version": 3
   },
   "file_extension": ".py",
   "mimetype": "text/x-python",
   "name": "python",
   "nbconvert_exporter": "python",
   "pygments_lexer": "ipython3",
   "version": "3.6.13"
  }
 },
 "nbformat": 4,
 "nbformat_minor": 2
}
